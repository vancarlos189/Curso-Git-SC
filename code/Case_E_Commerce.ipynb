{
  "nbformat": 4,
  "nbformat_minor": 0,
  "metadata": {
    "colab": {
      "provenance": []
    },
    "kernelspec": {
      "name": "python3",
      "display_name": "Python 3"
    },
    "language_info": {
      "name": "python"
    }
  },
  "cells": [
    {
      "cell_type": "markdown",
      "source": [
        "#Preparação"
      ],
      "metadata": {
        "id": "602Om2WxYP1_"
      }
    },
    {
      "cell_type": "code",
      "source": [
        "!apt-get install openjdk-8-jdk-headless -qq > /dev/null"
      ],
      "metadata": {
        "id": "uxs_oDBUI8pz"
      },
      "execution_count": 1,
      "outputs": []
    },
    {
      "cell_type": "code",
      "source": [
        "!wget -q https://dlcdn.apache.org/spark/spark-3.5.3/spark-3.5.3-bin-hadoop3.tgz"
      ],
      "metadata": {
        "id": "POCG6ZfDJp0t"
      },
      "execution_count": 2,
      "outputs": []
    },
    {
      "cell_type": "code",
      "source": [
        "!tar xf /content/spark-3.5.3-bin-hadoop3.tgz"
      ],
      "metadata": {
        "id": "dyUaou0iJvL1"
      },
      "execution_count": 3,
      "outputs": []
    },
    {
      "cell_type": "code",
      "source": [
        "import os\n",
        "os.environ[\"JAVA_HOME\"] = \"/usr/lib/jvm/java-8-openjdk-amd64\"\n",
        "os.environ[\"SPARK_HOME\"] = \"/content/spark-3.5.3-bin-hadoop3\""
      ],
      "metadata": {
        "id": "RQSIMDvkJyse"
      },
      "execution_count": 4,
      "outputs": []
    },
    {
      "cell_type": "code",
      "source": [
        "!pip install -q findspark"
      ],
      "metadata": {
        "id": "Tg2X22_BJ1xB"
      },
      "execution_count": 5,
      "outputs": []
    },
    {
      "cell_type": "code",
      "source": [
        "import findspark\n",
        "findspark.init()"
      ],
      "metadata": {
        "id": "VogsEjlaKwIA"
      },
      "execution_count": 124,
      "outputs": []
    },
    {
      "cell_type": "code",
      "source": [
        "from pyspark.sql import SparkSession\n",
        "spark = SparkSession.builder\\\n",
        "        .master('local')\\\n",
        "        .appName('sparkcolab')\\\n",
        "        .getOrCreate()"
      ],
      "metadata": {
        "id": "fAnopuYyLHkt"
      },
      "execution_count": 7,
      "outputs": []
    },
    {
      "cell_type": "code",
      "source": [
        "from pyspark.sql.functions import *\n",
        "from pyspark.sql.types import *\n",
        "from pyspark.sql.window import Window"
      ],
      "metadata": {
        "id": "VIVfZ3bvUHD1"
      },
      "execution_count": 8,
      "outputs": []
    },
    {
      "cell_type": "code",
      "source": [
        "logs = spark.read.csv('/content/E-commerce Website Logs.csv', inferSchema=True, header=True)\n",
        "logs.show(truncate=False)"
      ],
      "metadata": {
        "colab": {
          "base_uri": "https://localhost:8080/"
        },
        "id": "8IE5F4b4x1tG",
        "outputId": "7d8b1827-355d-438f-9a51-540d1df775ad"
      },
      "execution_count": 26,
      "outputs": [
        {
          "output_type": "stream",
          "name": "stdout",
          "text": [
            "+-----------------------+---------------+----------------+-------------+------+---------------+---+------+-------+----------+--------+--------+--------+---------------+-----------+\n",
            "|accessed_date          |duration_(secs)|network_protocol|ip           |bytes |accessed_Ffom  |age|gender|country|membership|language|sales   |returned|returned_amount|pay_method |\n",
            "+-----------------------+---------------+----------------+-------------+------+---------------+---+------+-------+----------+--------+--------+--------+---------------+-----------+\n",
            "|2017-03-14 17:43:57.172|2533           |TCP             |1.10.195.126 |20100 |Chrome         |28 |Female|CA     |Normal    |English |261.96  |No      |0.0            |Credit Card|\n",
            "|2017-03-14 17:43:57.172|4034           |TCP             |1.1.217.211  |20500 |Mozilla Firefox|21 |Male  |AR     |Normal    |English |731.94  |No      |0.0            |Debit Card |\n",
            "|2017-03-14 17:43:26.135|1525           |TCP             |1.115.198.107|90100 |Mozilla Firefox|20 |Male  |PL     |Normal    |English |14.62   |No      |0.0            |Cash       |\n",
            "|2017-03-14 17:43:26.135|4572           |TCP             |1.121.152.143|100300|Mozilla Firefox|66 |Female|IN     |Normal    |Spanish |957.5775|No      |0.0            |Credit Card|\n",
            "|2017-03-14 18:17:09.005|3652           |TCP             |1.123.135.213|270200|Mozilla Firefox|53 |Female|KR     |Normal    |Spanish |22.368  |No      |0.0            |Cash       |\n",
            "|2017-03-14 18:17:09.005|3847           |TCP             |1.124.48.210 |10200 |Mozilla Firefox|28 |Female|CA     |Normal    |English |48.86   |No      |0.0            |Credit Card|\n",
            "|2017-03-14 19:46:37.327|2090           |TCP             |1.124.48.99  |310900|Mozilla Firefox|49 |Female|CN     |Normal    |English |0.0     |Yes     |957.5775       |Cash       |\n",
            "|2017-03-14 19:46:37.327|2793           |TCP             |1.126.48.118 |10700 |Mozilla Firefox|32 |Female|AT     |Normal    |English |907.152 |No      |0.0            |Credit Card|\n",
            "|2017-03-14 19:02:42.704|3396           |TCP             |1.126.48.171 |250200|Mozilla Firefox|69 |Male  |US     |Normal    |Spanish |18.504  |No      |0.0            |Others     |\n",
            "|2017-03-14 19:02:42.704|2064           |TCP             |1.126.48.47  |20600 |Mozilla Firefox|60 |Female|CA     |Normal    |Spanish |114.9   |No      |0.0            |Credit Card|\n",
            "|2017-03-14 20:17:17.014|3288           |TCP             |1.128.96.235 |520500|Mozilla Firefox|36 |Female|SE     |Normal    |English |1706.184|No      |0.0            |Cash       |\n",
            "|2017-03-14 20:17:17.014|2973           |TCP             |1.128.96.30  |30500 |Android App    |29 |Female|CH     |Normal    |Chinese |911.424 |No      |0.0            |Credit Card|\n",
            "|2017-03-14 17:44:10.042|4464           |TCP             |1.128.97.122 |640800|Chrome         |67 |Female|IN     |Normal    |Spanish |15.552  |No      |0.0            |Debit Card |\n",
            "|2017-03-14 17:44:10.042|2307           |ICMP            |1.129.96.120 |90800 |Chrome         |25 |Male  |IN     |Normal    |Spanish |407.976 |No      |0.0            |Cash       |\n",
            "|2017-03-14 17:43:39.011|2440           |TCP             |1.129.96.21  |330000|Chrome         |67 |Female|US     |Normal    |Spanish |68.81   |No      |0.0            |Credit Card|\n",
            "|2017-03-14 17:43:39.011|4716           |TCP             |1.129.96.252 |50800 |Chrome         |24 |Male  |NO     |Normal    |English |2.544   |No      |0.0            |Credit Card|\n",
            "|2017-03-15 00:00:10.677|4563           |TCP             |1.129.96.79  |46    |Chrome         |65 |Male  |IN     |Premium   |Spanish |665.88  |No      |0.0            |Debit Card |\n",
            "|2017-03-15 00:00:10.677|2380           |TCP             |1.129.96.86  |40    |Chrome         |42 |Female|JP     |Premium   |Spanish |55.5    |No      |0.0            |Credit Card|\n",
            "|2017-03-15 00:00:09.156|4127           |TCP             |1.129.97.46  |3093  |IOS App        |46 |Female|PL     |Premium   |English |8.56    |No      |0.0            |Cash       |\n",
            "|2017-03-15 00:00:09.156|3461           |TCP             |1.129.97.62  |2843  |IOS App        |24 |Male  |GB     |Premium   |Spanish |213.48  |No      |0.0            |Others     |\n",
            "+-----------------------+---------------+----------------+-------------+------+---------------+---+------+-------+----------+--------+--------+--------+---------------+-----------+\n",
            "only showing top 20 rows\n",
            "\n"
          ]
        }
      ]
    },
    {
      "cell_type": "markdown",
      "source": [
        "#Tratamento"
      ],
      "metadata": {
        "id": "tR9545lIYfup"
      }
    },
    {
      "cell_type": "code",
      "source": [
        "logs = logs.withColumn(\"hora\", hour(col(\"accessed_date\"))) \\\n",
        "       .withColumn(\"dia_semana\", dayofweek(col(\"accessed_date\"))) \\\n",
        "       .withColumn(\"mes\", month(col(\"accessed_date\")))"
      ],
      "metadata": {
        "id": "Bc8tgio7dNM6"
      },
      "execution_count": 27,
      "outputs": []
    },
    {
      "cell_type": "code",
      "source": [
        "logs.show(2)"
      ],
      "metadata": {
        "colab": {
          "base_uri": "https://localhost:8080/"
        },
        "id": "y1_VLAGJdkP8",
        "outputId": "842e47f3-4384-44a8-d5be-bb357e892a14"
      },
      "execution_count": 29,
      "outputs": [
        {
          "output_type": "stream",
          "name": "stdout",
          "text": [
            "+--------------------+---------------+----------------+------------+-----+---------------+---+------+-------+----------+--------+------+--------+---------------+-----------+----+----------+---+\n",
            "|       accessed_date|duration_(secs)|network_protocol|          ip|bytes|  accessed_Ffom|age|gender|country|membership|language| sales|returned|returned_amount| pay_method|hora|dia_semana|mes|\n",
            "+--------------------+---------------+----------------+------------+-----+---------------+---+------+-------+----------+--------+------+--------+---------------+-----------+----+----------+---+\n",
            "|2017-03-14 17:43:...|           2533|           TCP  |1.10.195.126|20100|         Chrome| 28|Female|     CA|    Normal| English|261.96|      No|            0.0|Credit Card|  17|         3|  3|\n",
            "|2017-03-14 17:43:...|           4034|           TCP  | 1.1.217.211|20500|Mozilla Firefox| 21|  Male|     AR|    Normal| English|731.94|      No|            0.0| Debit Card|  17|         3|  3|\n",
            "+--------------------+---------------+----------------+------------+-----+---------------+---+------+-------+----------+--------+------+--------+---------------+-----------+----+----------+---+\n",
            "only showing top 2 rows\n",
            "\n"
          ]
        }
      ]
    },
    {
      "cell_type": "code",
      "source": [
        "logs = logs.withColumnsRenamed({'accessed_date':'data_acesso','duration_(secs)':'duracao','accessed_Ffom':'navegador','age':'idade','gender':'genero',\\\n",
        "                        'country':'pais','membership':'nivel','language':'idioma','sales':'vendas','pay_method':'metodo_pagamento'})"
      ],
      "metadata": {
        "id": "360i31oAduhN"
      },
      "execution_count": 30,
      "outputs": []
    },
    {
      "cell_type": "code",
      "source": [
        "logs = logs.select('data_acesso','duracao','navegador','idade','genero','pais','nivel','idioma','vendas','metodo_pagamento','hora','dia_semana','mes')\n",
        "logs.show(5,truncate=False)"
      ],
      "metadata": {
        "colab": {
          "base_uri": "https://localhost:8080/"
        },
        "id": "nuWnduVSfl_W",
        "outputId": "5d43a971-71a1-4496-c8a4-ea879c9ef072"
      },
      "execution_count": 31,
      "outputs": [
        {
          "output_type": "stream",
          "name": "stdout",
          "text": [
            "+-----------------------+-------+---------------+-----+------+----+------+-------+--------+----------------+----+----------+---+\n",
            "|data_acesso            |duracao|navegador      |idade|genero|pais|nivel |idioma |vendas  |metodo_pagamento|hora|dia_semana|mes|\n",
            "+-----------------------+-------+---------------+-----+------+----+------+-------+--------+----------------+----+----------+---+\n",
            "|2017-03-14 17:43:57.172|2533   |Chrome         |28   |Female|CA  |Normal|English|261.96  |Credit Card     |17  |3         |3  |\n",
            "|2017-03-14 17:43:57.172|4034   |Mozilla Firefox|21   |Male  |AR  |Normal|English|731.94  |Debit Card      |17  |3         |3  |\n",
            "|2017-03-14 17:43:26.135|1525   |Mozilla Firefox|20   |Male  |PL  |Normal|English|14.62   |Cash            |17  |3         |3  |\n",
            "|2017-03-14 17:43:26.135|4572   |Mozilla Firefox|66   |Female|IN  |Normal|Spanish|957.5775|Credit Card     |17  |3         |3  |\n",
            "|2017-03-14 18:17:09.005|3652   |Mozilla Firefox|53   |Female|KR  |Normal|Spanish|22.368  |Cash            |18  |3         |3  |\n",
            "+-----------------------+-------+---------------+-----+------+----+------+-------+--------+----------------+----+----------+---+\n",
            "only showing top 5 rows\n",
            "\n"
          ]
        }
      ]
    },
    {
      "cell_type": "code",
      "source": [
        "logs.printSchema()"
      ],
      "metadata": {
        "colab": {
          "base_uri": "https://localhost:8080/"
        },
        "id": "KzQXksY1bh-O",
        "outputId": "a4040db3-1a98-4f54-f4ef-64b64bd1bd1e"
      },
      "execution_count": 47,
      "outputs": [
        {
          "output_type": "stream",
          "name": "stdout",
          "text": [
            "root\n",
            " |-- data_acesso: timestamp (nullable = true)\n",
            " |-- duracao: integer (nullable = true)\n",
            " |-- navegador: string (nullable = true)\n",
            " |-- idade: integer (nullable = true)\n",
            " |-- genero: string (nullable = true)\n",
            " |-- pais: string (nullable = true)\n",
            " |-- nivel: string (nullable = true)\n",
            " |-- idioma: string (nullable = true)\n",
            " |-- vendas: double (nullable = true)\n",
            " |-- metodo_pagamento: string (nullable = true)\n",
            " |-- hora: integer (nullable = true)\n",
            " |-- dia_semana: integer (nullable = true)\n",
            " |-- mes: integer (nullable = true)\n",
            "\n"
          ]
        }
      ]
    },
    {
      "cell_type": "code",
      "source": [
        "logs = logs.withColumn('idade',col('idade').cast(IntegerType()))"
      ],
      "metadata": {
        "id": "kj26a32MhCxN"
      },
      "execution_count": 46,
      "outputs": []
    },
    {
      "cell_type": "code",
      "source": [
        "for coluna in logs.columns:\n",
        "  print(coluna, logs.filter(logs[coluna].isNull()).count())"
      ],
      "metadata": {
        "colab": {
          "base_uri": "https://localhost:8080/"
        },
        "id": "JwNilySzbTuA",
        "outputId": "c598a6eb-d4cf-4d30-817b-c6cdc93ccf33"
      },
      "execution_count": 71,
      "outputs": [
        {
          "output_type": "stream",
          "name": "stdout",
          "text": [
            "data_acesso 0\n",
            "duracao 0\n",
            "navegador 0\n",
            "idade 0\n",
            "genero 0\n",
            "pais 0\n",
            "nivel 0\n",
            "idioma 0\n",
            "vendas 0\n",
            "metodo_pagamento 0\n",
            "hora 0\n",
            "dia_semana 0\n",
            "mes 0\n"
          ]
        }
      ]
    },
    {
      "cell_type": "code",
      "source": [
        "logs.filter(col('nivel') == \"Not Logged In\").count()"
      ],
      "metadata": {
        "colab": {
          "base_uri": "https://localhost:8080/"
        },
        "id": "aOzoQ8J9jLTV",
        "outputId": "07dded71-3ac4-4ebe-d955-0a9a85cbf14c"
      },
      "execution_count": 57,
      "outputs": [
        {
          "output_type": "execute_result",
          "data": {
            "text/plain": [
              "15886"
            ]
          },
          "metadata": {},
          "execution_count": 57
        }
      ]
    },
    {
      "cell_type": "code",
      "source": [
        "logs = logs.filter(col('idade').isNotNull())\n"
      ],
      "metadata": {
        "id": "YGQwDC14kTpp"
      },
      "execution_count": 68,
      "outputs": []
    },
    {
      "cell_type": "code",
      "source": [
        "logs.groupBy('genero').count().show()"
      ],
      "metadata": {
        "colab": {
          "base_uri": "https://localhost:8080/"
        },
        "id": "YAJQh0eVa5wb",
        "outputId": "be961a1b-ed6b-49dd-9bac-dad0552d8f47"
      },
      "execution_count": 70,
      "outputs": [
        {
          "output_type": "stream",
          "name": "stdout",
          "text": [
            "+------+-----+\n",
            "|genero|count|\n",
            "+------+-----+\n",
            "|Female|50682|\n",
            "|  Male|34032|\n",
            "+------+-----+\n",
            "\n"
          ]
        }
      ]
    },
    {
      "cell_type": "code",
      "source": [
        "logs.show(1,truncate=False)"
      ],
      "metadata": {
        "colab": {
          "base_uri": "https://localhost:8080/"
        },
        "id": "6kIYpRCQyIE9",
        "outputId": "a37f424d-0d1c-4f81-8eaa-5fd6a2a10b3e"
      },
      "execution_count": 76,
      "outputs": [
        {
          "output_type": "stream",
          "name": "stdout",
          "text": [
            "+-----------------------+-------+---------+-----+------+----+------+-------+------+----------------+----+----------+---+\n",
            "|data_acesso            |duracao|navegador|idade|genero|pais|nivel |idioma |vendas|metodo_pagamento|hora|dia_semana|mes|\n",
            "+-----------------------+-------+---------+-----+------+----+------+-------+------+----------------+----+----------+---+\n",
            "|2017-03-14 17:43:57.172|2533   |Chrome   |28   |Female|CA  |Normal|English|261.96|Credit Card     |17  |3         |3  |\n",
            "+-----------------------+-------+---------+-----+------+----+------+-------+------+----------------+----+----------+---+\n",
            "only showing top 1 row\n",
            "\n"
          ]
        }
      ]
    },
    {
      "cell_type": "markdown",
      "source": [
        "#Perguntas do projeto"
      ],
      "metadata": {
        "id": "FcdZzxLZ8xpa"
      }
    },
    {
      "cell_type": "markdown",
      "source": [
        "#Pergunta 1\n",
        "Quais são os 5 maiores horários de pico de acesso à plataforma durante a semana?"
      ],
      "metadata": {
        "id": "Q-yhIYiix_yp"
      }
    },
    {
      "cell_type": "code",
      "source": [
        "top5_pico = logs.groupBy(col('hora')).agg(count(col('dia_semana'))).orderBy(desc('count(dia_semana)'))\n",
        "top5_pico.withColumnRenamed('count(dia_semana)','acessos').show(5)"
      ],
      "metadata": {
        "colab": {
          "base_uri": "https://localhost:8080/"
        },
        "id": "Hz1wIu74yB-Z",
        "outputId": "8b0a8b7d-c8e2-4e32-f8bd-38620fb7e7f3"
      },
      "execution_count": 112,
      "outputs": [
        {
          "output_type": "stream",
          "name": "stdout",
          "text": [
            "+----+-------+\n",
            "|hora|acessos|\n",
            "+----+-------+\n",
            "|   2|   5880|\n",
            "|   1|   5656|\n",
            "|   3|   4968|\n",
            "|   4|   4767|\n",
            "|   0|   4341|\n",
            "+----+-------+\n",
            "only showing top 5 rows\n",
            "\n"
          ]
        }
      ]
    },
    {
      "cell_type": "markdown",
      "source": [
        "#Pergunta 2\n",
        "Existe uma diferença significativa na duração média das sessões entre usuários de diferentes navegadores?"
      ],
      "metadata": {
        "id": "fJcjEdMf7XSr"
      }
    },
    {
      "cell_type": "code",
      "source": [
        "duracao_por_navegador = logs.groupBy('navegador').agg(mean('duracao')).orderBy(desc('avg(duracao)')).show()"
      ],
      "metadata": {
        "colab": {
          "base_uri": "https://localhost:8080/"
        },
        "id": "838rFrWE3PXE",
        "outputId": "ea502a23-8b3f-4a1a-87fc-de357f8e335a"
      },
      "execution_count": 127,
      "outputs": [
        {
          "output_type": "stream",
          "name": "stdout",
          "text": [
            "+---------------+------------------+\n",
            "|      navegador|      avg(duracao)|\n",
            "+---------------+------------------+\n",
            "| Microsoft Edge|3262.5964505119455|\n",
            "|    Android App| 3258.735507246377|\n",
            "|         Chrome| 3256.836589955131|\n",
            "|        IOS App| 3255.549261315517|\n",
            "|         Safari|3246.3750309329375|\n",
            "|         Others| 3245.094103175213|\n",
            "|Mozilla Firefox|3243.1286976565502|\n",
            "|         SafFRi| 3236.527777777778|\n",
            "+---------------+------------------+\n",
            "\n"
          ]
        }
      ]
    },
    {
      "cell_type": "markdown",
      "source": [],
      "metadata": {
        "id": "EUwOqBgI88Mi"
      }
    },
    {
      "cell_type": "markdown",
      "source": [
        "#Pergunta 3\n",
        "\n",
        "Qual o método de pagamento mais utilizado pelos usuários em cada país?"
      ],
      "metadata": {
        "id": "LxX9BT1W8-Zw"
      }
    },
    {
      "cell_type": "code",
      "source": [
        "pais = logs.select('pais','metodo_pagamento')\n",
        "pais.show(5)"
      ],
      "metadata": {
        "colab": {
          "base_uri": "https://localhost:8080/"
        },
        "id": "yNWlL7JB9FFr",
        "outputId": "2583712a-67c2-430d-e900-b62f33e377cf"
      },
      "execution_count": 138,
      "outputs": [
        {
          "output_type": "stream",
          "name": "stdout",
          "text": [
            "+----+----------------+\n",
            "|pais|metodo_pagamento|\n",
            "+----+----------------+\n",
            "|  CA|     Credit Card|\n",
            "|  AR|      Debit Card|\n",
            "|  PL|            Cash|\n",
            "|  IN|     Credit Card|\n",
            "|  KR|            Cash|\n",
            "+----+----------------+\n",
            "only showing top 5 rows\n",
            "\n"
          ]
        }
      ]
    },
    {
      "cell_type": "code",
      "source": [
        "pais_metodo = pais.groupBy('pais','metodo_pagamento').count().orderBy(desc('count'))\n",
        "pais_metodo.show(20)"
      ],
      "metadata": {
        "colab": {
          "base_uri": "https://localhost:8080/"
        },
        "id": "v9W0jLI6Jkyy",
        "outputId": "004ea5e3-d1a5-42e9-83f2-d95adb4fca5d"
      },
      "execution_count": 161,
      "outputs": [
        {
          "output_type": "stream",
          "name": "stdout",
          "text": [
            "+----+----------------+-----+\n",
            "|pais|metodo_pagamento|count|\n",
            "+----+----------------+-----+\n",
            "|  IT|            Cash| 7177|\n",
            "|  US|            Cash| 5978|\n",
            "|  IT|     Credit Card| 5132|\n",
            "|  US|     Credit Card| 4580|\n",
            "|  CA|            Cash| 3629|\n",
            "|  CA|     Credit Card| 2670|\n",
            "|  IT|      Debit Card| 2657|\n",
            "|  US|      Debit Card| 2372|\n",
            "|  JP|            Cash| 2105|\n",
            "|  CN|            Cash| 2091|\n",
            "|  RU|            Cash| 1973|\n",
            "|  IT|          Others| 1926|\n",
            "|  CH|            Cash| 1702|\n",
            "|  US|          Others| 1681|\n",
            "|  IN|            Cash| 1660|\n",
            "|  CN|     Credit Card| 1553|\n",
            "|  JP|     Credit Card| 1466|\n",
            "|  RU|     Credit Card| 1424|\n",
            "|  CA|      Debit Card| 1419|\n",
            "|  PL|            Cash| 1347|\n",
            "+----+----------------+-----+\n",
            "only showing top 20 rows\n",
            "\n"
          ]
        }
      ]
    },
    {
      "cell_type": "code",
      "source": [
        "rank_pagamento_país = Window.partitionBy('pais').orderBy(desc('count'))\n",
        "pais_metodo = pais_metodo.withColumn('Rank', row_number().over(rank_pagamento_país))\n",
        "pais_metodo.show()"
      ],
      "metadata": {
        "colab": {
          "base_uri": "https://localhost:8080/"
        },
        "id": "P2kbqiZCOMYD",
        "outputId": "9aaff0f2-a9ee-4208-ce2a-ea2fba2e640d"
      },
      "execution_count": 162,
      "outputs": [
        {
          "output_type": "stream",
          "name": "stdout",
          "text": [
            "+----+----------------+-----+----+\n",
            "|pais|metodo_pagamento|count|Rank|\n",
            "+----+----------------+-----+----+\n",
            "|  AE|            Cash|   51|   1|\n",
            "|  AE|     Credit Card|   32|   2|\n",
            "|  AE|          Others|   14|   3|\n",
            "|  AE|      Debit Card|   11|   4|\n",
            "|  AR|            Cash|  658|   1|\n",
            "|  AR|     Credit Card|  480|   2|\n",
            "|  AR|      Debit Card|  256|   3|\n",
            "|  AR|          Others|  187|   4|\n",
            "|  AT|            Cash|  948|   1|\n",
            "|  AT|     Credit Card|  751|   2|\n",
            "|  AT|      Debit Card|  388|   3|\n",
            "|  AT|          Others|  255|   4|\n",
            "|  AU|            Cash|  979|   1|\n",
            "|  AU|     Credit Card|  663|   2|\n",
            "|  AU|      Debit Card|  345|   3|\n",
            "|  AU|          Others|  240|   4|\n",
            "|  CA|            Cash| 3629|   1|\n",
            "|  CA|     Credit Card| 2670|   2|\n",
            "|  CA|      Debit Card| 1419|   3|\n",
            "|  CA|          Others|  977|   4|\n",
            "+----+----------------+-----+----+\n",
            "only showing top 20 rows\n",
            "\n"
          ]
        }
      ]
    },
    {
      "cell_type": "code",
      "source": [
        "pais_metodo=pais_metodo.filter(col('Rank')==1)\n",
        "pais_metodo = pais_metodo.select('pais','metodo_pagamento','count').orderBy(desc('count'))\n",
        "pais_metodo.show(50)"
      ],
      "metadata": {
        "colab": {
          "base_uri": "https://localhost:8080/"
        },
        "id": "AhDJ73nNPOVE",
        "outputId": "7eda66fc-4223-412c-f35b-4e887cbdc6dd"
      },
      "execution_count": 160,
      "outputs": [
        {
          "output_type": "stream",
          "name": "stdout",
          "text": [
            "+----+----------------+-----+\n",
            "|pais|metodo_pagamento|count|\n",
            "+----+----------------+-----+\n",
            "|  IT|            Cash| 7177|\n",
            "|  US|            Cash| 5978|\n",
            "|  CA|            Cash| 3629|\n",
            "|  JP|            Cash| 2105|\n",
            "|  CN|            Cash| 2091|\n",
            "|  RU|            Cash| 1973|\n",
            "|  CH|            Cash| 1702|\n",
            "|  IN|            Cash| 1660|\n",
            "|  PL|            Cash| 1347|\n",
            "|  GB|            Cash|  985|\n",
            "|  AU|            Cash|  979|\n",
            "|  AT|            Cash|  948|\n",
            "|  SE|            Cash|  925|\n",
            "|  NO|            Cash|  843|\n",
            "|  AR|            Cash|  658|\n",
            "|  KR|            Cash|  471|\n",
            "|  DE|            Cash|  449|\n",
            "|  PR|            Cash|  360|\n",
            "|  CO|            Cash|  296|\n",
            "|  ZA|            Cash|  263|\n",
            "|  MX|            Cash|  235|\n",
            "|  PE|            Cash|  235|\n",
            "|  FI|            Cash|  145|\n",
            "|  IE|            Cash|   55|\n",
            "|  AE|            Cash|   51|\n",
            "|  DK|     Credit Card|   40|\n",
            "|  FR|            Cash|   27|\n",
            "+----+----------------+-----+\n",
            "\n"
          ]
        }
      ]
    },
    {
      "cell_type": "markdown",
      "source": [
        "#Pegunta 4\n",
        "Qual país compra mais?"
      ],
      "metadata": {
        "id": "VzJBPlSNSaAz"
      }
    },
    {
      "cell_type": "code",
      "source": [
        "pais_compra = logs.groupBy('pais').agg(sum('vendas')).orderBy(desc('sum(vendas)'))\n",
        "pais_compra = pais_compra.withColumn('vendas', round(col('sum(vendas)')))\n",
        "pais_compra = pais_compra.select('pais','vendas')\n",
        "pais_compra.show()"
      ],
      "metadata": {
        "colab": {
          "base_uri": "https://localhost:8080/"
        },
        "id": "dNrBqht4Ttkz",
        "outputId": "bc521203-915d-48a4-b20b-659adb4a01e4"
      },
      "execution_count": 175,
      "outputs": [
        {
          "output_type": "stream",
          "name": "stdout",
          "text": [
            "+----+---------+\n",
            "|pais|   vendas|\n",
            "+----+---------+\n",
            "|  IT|7127469.0|\n",
            "|  US|6300334.0|\n",
            "|  CA|3605861.0|\n",
            "|  CN|2108403.0|\n",
            "|  JP|2098233.0|\n",
            "|  RU|1898916.0|\n",
            "|  IN|1685979.0|\n",
            "|  CH|1671289.0|\n",
            "|  PL|1430061.0|\n",
            "|  GB|1026268.0|\n",
            "|  AT| 996015.0|\n",
            "|  SE| 940002.0|\n",
            "|  AU| 918088.0|\n",
            "|  NO| 771479.0|\n",
            "|  AR| 629667.0|\n",
            "|  DE| 460482.0|\n",
            "|  KR| 458614.0|\n",
            "|  PR| 354292.0|\n",
            "|  CO| 306324.0|\n",
            "|  ZA| 260920.0|\n",
            "+----+---------+\n",
            "only showing top 20 rows\n",
            "\n"
          ]
        }
      ]
    }
  ]
}